{
 "cells": [
  {
   "cell_type": "code",
   "execution_count": 3,
   "metadata": {},
   "outputs": [
    {
     "name": "stdout",
     "output_type": "stream",
     "text": [
      "True | <class 'bool'> \n",
      " {8, 1, 3, 7} | <class 'set'> \n",
      " {2, 4, 5, 'apple', 10} | <class 'set'> \n",
      " set() | <class 'set'> \n",
      " ('Антонова антонина', 34, 'ж') | <class 'tuple'> \n",
      " type | <class 'str'> \n",
      " [1, 'title', 2, 'content'] | <class 'list'> \n",
      "\n"
     ]
    }
   ],
   "source": [
    "X = 5 >= 2\n",
    "A = {1, 3, 7, 8}\n",
    "B = {2, 4, 5, 10, 'apple'}\n",
    "C = A & B\n",
    "df = 'Антонова антонина', 34, 'ж'\n",
    "z = 'type'\n",
    "D = [1, 'title', 2, 'content']\n",
    "\n",
    "print(X, '|', type(X), '\\n',\n",
    "     A, '|', type(A), '\\n',\n",
    "     B, '|', type(B), '\\n',\n",
    "     C, '|', type(C), '\\n',\n",
    "     df, '|', type(df), '\\n',\n",
    "     z, '|', type(z), '\\n',\n",
    "     D, '|', type(D), '\\n',)"
   ]
  },
  {
   "cell_type": "code",
   "execution_count": 5,
   "metadata": {},
   "outputs": [
    {
     "name": "stdout",
     "output_type": "stream",
     "text": [
      "5\n",
      "x in [-5, 5]\n"
     ]
    }
   ],
   "source": [
    "x = int(input())\n",
    "if -5 <= x <= 5:\n",
    "    print(\"x in [-5, 5]\")\n",
    "elif x < -5:\n",
    "    print(\"x in (-infinity, -5)\")\n",
    "else:\n",
    "    print(\"x in (5, +infinity)\")"
   ]
  },
  {
   "cell_type": "code",
   "execution_count": 1,
   "metadata": {},
   "outputs": [
    {
     "name": "stdout",
     "output_type": "stream",
     "text": [
      "10\n",
      "7\n",
      "4\n",
      "1\n"
     ]
    }
   ],
   "source": [
    "x = 10\n",
    "while x >= 1:\n",
    "    print(x)\n",
    "    x -= 3"
   ]
  },
  {
   "cell_type": "code",
   "execution_count": 2,
   "metadata": {},
   "outputs": [
    {
     "name": "stdout",
     "output_type": "stream",
     "text": [
      "mind\n",
      "erectus\n",
      "work\n"
     ]
    }
   ],
   "source": [
    "signs_human = ['mind', 'erectus', 'work']\n",
    "for x in signs_human:\n",
    "    print(x)"
   ]
  },
  {
   "cell_type": "code",
   "execution_count": 6,
   "metadata": {},
   "outputs": [
    {
     "name": "stdout",
     "output_type": "stream",
     "text": [
      "[2, 3, 4, 5, 6, 7, 8, 9, 10, 11, 12, 13, 14, 15]\n"
     ]
    }
   ],
   "source": [
    "nums = []\n",
    "for i in range(2, 16, 1):\n",
    "    nums.append(i)\n",
    "print(nums)\n",
    "\n",
    "# иначе можно сделать так - nums = [i for i in range(2, 16, 1)]"
   ]
  },
  {
   "cell_type": "code",
   "execution_count": 9,
   "metadata": {},
   "outputs": [
    {
     "name": "stdout",
     "output_type": "stream",
     "text": [
      "105\n",
      "80\n",
      "55\n",
      "30\n",
      "5\n"
     ]
    }
   ],
   "source": [
    "print('\\n'.join([str(i) for i in range(105, 4, -25)]))"
   ]
  },
  {
   "cell_type": "code",
   "execution_count": 19,
   "metadata": {},
   "outputs": [
    {
     "name": "stdout",
     "output_type": "stream",
     "text": [
      "[14, 1, 12, 3, 10, 5, 8, 7, 6, 9, 4, 11, 2, 13, 0]\n"
     ]
    }
   ],
   "source": [
    "nums = list(range(10))\n",
    "temp = nums[::2]\n",
    "temp.reverse()\n",
    "for i in range(0, len(nums), 2):\n",
    "    nums[i] = temp[i // 2]\n",
    "print(nums)"
   ]
  },
  {
   "cell_type": "code",
   "execution_count": 38,
   "metadata": {},
   "outputs": [
    {
     "name": "stdout",
     "output_type": "stream",
     "text": [
      "10\n",
      "0.3672460449822703 0.4013896190900773\n"
     ]
    },
    {
     "data": {
      "image/png": "[encoded data removed]",
      "text/plain": [
       "<Figure size 432x288 with 1 Axes>"
      ]
     },
     "metadata": {
      "needs_background": "light"
     },
     "output_type": "display_data"
    }
   ],
   "source": [
    "import matplotlib.pyplot as plt\n",
    "import numpy as np\n",
    "\n",
    "rand_nums = np.random.rand(int(input()))\n",
    "median = np.median(rand_nums)\n",
    "average = np.sum(rand_nums) / rand_nums.size\n",
    "print(median, average)\n",
    "plt.scatter(rand_nums, rand_nums)\n",
    "plt.grid()"
   ]
  },
  {
   "cell_type": "code",
   "execution_count": 8,
   "metadata": {},
   "outputs": [
    {
     "name": "stdout",
     "output_type": "stream",
     "text": [
      "11\n"
     ]
    },
    {
     "data": {
      "image/png": "[encoded data removed]",
      "text/plain": [
       "<Figure size 432x288 with 1 Axes>"
      ]
     },
     "metadata": {
      "needs_background": "light"
     },
     "output_type": "display_data"
    },
    {
     "data": {
      "text/plain": [
       "<matplotlib.collections.PathCollection at 0x12a8ee43348>"
      ]
     },
     "execution_count": 8,
     "metadata": {},
     "output_type": "execute_result"
    },
    {
     "data": {
      "image/png": "[encoded data removed]",
      "text/plain": [
       "<Figure size 432x288 with 1 Axes>"
      ]
     },
     "metadata": {
      "needs_background": "light"
     },
     "output_type": "display_data"
    }
   ],
   "source": [
    "import matplotlib.pyplot as plt\n",
    "import numpy as np\n",
    "\n",
    "x = np.arange(1, int(input()), 1)\n",
    "y = np.sqrt(1 + np.exp(np.sqrt(x)) + np.cos(x ** 2)) / np.abs(1 - np.sin(x) ** 3) + np.log(np.abs(2 * x))\n",
    "plt.plot(x,y)\n",
    "plt.show()\n",
    "x = x[:x.size // 2]\n",
    "y = y[:y.size // 2]\n",
    "plt.scatter(x, y)"
   ]
  },
  {
   "cell_type": "code",
   "execution_count": 22,
   "metadata": {},
   "outputs": [
    {
     "name": "stdout",
     "output_type": "stream",
     "text": [
      "6.260345875494747\n"
     ]
    },
    {
     "data": {
      "image/png": "[encoded data removed]",
      "text/plain": [
       "<Figure size 432x288 with 1 Axes>"
      ]
     },
     "metadata": {
      "needs_background": "light"
     },
     "output_type": "display_data"
    }
   ],
   "source": [
    "from scipy.integrate import simps\n",
    "import matplotlib.pyplot as plt\n",
    "import numpy as np\n",
    "\n",
    "x = np.arange(0, 10, 1)\n",
    "y = np.abs(np.cos(x * np.exp(np.cos(x) + np.log(x + 1))))\n",
    "plt.grid()\n",
    "plt.plot(x, y, c = 'r')\n",
    "plt.fill_between(x, y)\n",
    "\n",
    "area = np.trapz(y)\n",
    "print(area)"
   ]
  },
  {
   "cell_type": "code",
   "execution_count": null,
   "metadata": {},
   "outputs": [
    {
     "name": "stdout",
     "output_type": "stream",
     "text": [
      " 1. 5 + 3 \n",
      " 2. e^(x + y) \n",
      " 3. sin(x + y) \n",
      " 4. x^y\n",
      "sin(100 + 260\n",
      "126\n",
      "0.329990825673782\n",
      "sin(100 + 260)\n",
      "360\n",
      "0.9589157234143065\n"
     ]
    }
   ],
   "source": [
    "import math as m\n",
    "\n",
    "print(\" 1. 5 + 3 \\n 2. e^(x + y) \\n 3. sin(x + y) \\n 4. x^y\")\n",
    "word = input()\n",
    "\n",
    "while word != \"stop\":\n",
    "    if '^' not in word and 'cos' not in word and 'sin' not in word:\n",
    "        print(eval(word))\n",
    "    elif '^' in word:\n",
    "        if 'e' in word:\n",
    "            print(m.exp(int(word[word.find('(') + 1:word.find('+')]) + \n",
    "                       int(word[word.find('+') + 1:word.find(')')])))\n",
    "        else:\n",
    "            temp = [int(x) for x in word.split('^')]\n",
    "            print(temp[0] ** temp[1])\n",
    "    else:\n",
    "        temp_x = int(word[word.find('(') + 1:word.find('+')])\n",
    "        temp_y = int(word[word.find('+') + 1:word.find(')')])\n",
    "        if 'cos' in word:\n",
    "            print(m.cos(temp_x + temp_y))\n",
    "        else:\n",
    "            print(temp_x + temp_y)\n",
    "            print(m.sin(temp_x + temp_y))\n",
    "    word = input()\n"
   ]
  },
  {
   "cell_type": "code",
   "execution_count": 6,
   "metadata": {},
   "outputs": [
    {
     "data": {
      "image/png": "[encoded data removed]",
      "text/plain": [
       "<Figure size 432x288 with 1 Axes>"
      ]
     },
     "metadata": {
      "needs_background": "light"
     },
     "output_type": "display_data"
    },
    {
     "data": {
      "image/png": "[encoded data removed]",
      "text/plain": [
       "<Figure size 432x288 with 1 Axes>"
      ]
     },
     "metadata": {
      "needs_background": "light"
     },
     "output_type": "display_data"
    },
    {
     "data": {
      "image/png": "[encoded data removed]",
      "text/plain": [
       "<Figure size 432x288 with 1 Axes>"
      ]
     },
     "metadata": {
      "needs_background": "light"
     },
     "output_type": "display_data"
    }
   ],
   "source": [
    "import matplotlib.pyplot as plt\n",
    "import numpy as np\n",
    "\n",
    "mounth = ['Jan', 'Feb', 'Mar', 'Apr', 'May', 'Jun',\n",
    "          'Jul', 'Aug', 'Sep', 'Oct', 'Nov', 'Dec']\n",
    "\n",
    "apple_data = [131.96, 121.26, 122.15, 131.46, 124.61, 136.96, \n",
    "              145.86, 151.83, 141.50, 149.80, 165.30, 177.57]\n",
    "\n",
    "microsoft_data = [231.96, 232.38, 235.77, 252.18, 249.68, 270.90,\n",
    "                 284.91, 301.88, 281.92, 331.62, 330.59, 336.32]\n",
    "\n",
    "google_data = [91.79, 101.84, 103.43, 120.51, 120.58, 125.32,\n",
    "              135.22, 145.46, 133.27, 148.27, 142.45, 144.68]\n",
    "plt.grid()\n",
    "plt.scatter(mounth, apple_data)\n",
    "plt.show()\n",
    "plt.grid()\n",
    "plt.scatter(mounth, microsoft_data)\n",
    "plt.show()\n",
    "plt.grid()\n",
    "plt.scatter(mounth, google_data)\n",
    "plt.show()"
   ]
  }
 ],
 "metadata": {
  "kernelspec": {
   "display_name": "Python 3",
   "language": "python",
   "name": "python3"
  },
  "language_info": {
   "codemirror_mode": {
    "name": "ipython",
    "version": 3
   },
   "file_extension": ".py",
   "mimetype": "text/x-python",
   "name": "python",
   "nbconvert_exporter": "python",
   "pygments_lexer": "ipython3",
   "version": "3.7.6"
  }
 },
 "nbformat": 4,
 "nbformat_minor": 4
}
