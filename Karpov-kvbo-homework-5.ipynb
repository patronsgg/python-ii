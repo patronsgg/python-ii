{
 "cells": [
  {
   "cell_type": "code",
   "execution_count": 21,
   "metadata": {},
   "outputs": [
    {
     "name": "stdout",
     "output_type": "stream",
     "text": [
      "1.0\n"
     ]
    }
   ],
   "source": [
    "import math\n",
    "class TrigonFunc:\n",
    "    def __init__(self):\n",
    "        pass\n",
    "    \n",
    "    def changetoRad(self, degrees):\n",
    "        return math.pi * degrees / 180\n",
    "    \n",
    "    def sin(self, degrees):\n",
    "        return math.sin(self.changetoRad(degrees))\n",
    "    \n",
    "    def cos(self, degrees):\n",
    "        return math.cos(self.changetoRad(degrees))\n",
    "    \n",
    "    def tan(self, degrees):\n",
    "        return math.tan(self.changetoRad(degrees))\n",
    "    \n",
    "    def asin(self, degrees):\n",
    "        return math.asin(self.changetoRad(degrees))\n",
    "    \n",
    "    def acos(self, degrees):\n",
    "        return math.acos(self.changetoRad(degrees))\n",
    "    \n",
    "    def atan(self, degrees):\n",
    "        return math.atan(self.changetoRad(degrees))\n",
    "    \n",
    "\n",
    "temp = TrigonFunc()\n",
    "print(temp.sin(90))"
   ]
  },
  {
   "cell_type": "code",
   "execution_count": 22,
   "metadata": {},
   "outputs": [
    {
     "name": "stdout",
     "output_type": "stream",
     "text": [
      "a\n",
      "['b', ['d', 'e']]\n",
      "['c', ['f']]\n"
     ]
    }
   ],
   "source": [
    "tree = [['b', ['d', 'e']], 'a', ['c', ['f']]]\n",
    "print(tree[1])\n",
    "print(tree[0])\n",
    "print(tree[2])"
   ]
  },
  {
   "cell_type": "code",
   "execution_count": 47,
   "metadata": {},
   "outputs": [
    {
     "name": "stdout",
     "output_type": "stream",
     "text": [
      "5\n",
      "left tree:3\n",
      "left tree:1\n",
      "rigth tree:4\n",
      "rigth tree:10\n"
     ]
    }
   ],
   "source": [
    "class Tree:\n",
    "    def __init__(self, data):\n",
    "        self.left = None\n",
    "        self.right = None\n",
    "        self.data = data\n",
    "        \n",
    "    def PrintTree(self):\n",
    "        print(self.data)\n",
    "        if (self.left is not None):\n",
    "            print(\"left tree:\", end='')\n",
    "            self.left.PrintTree()\n",
    "        if (self.right is not None):\n",
    "            print(\"rigth tree:\", end='')\n",
    "            self.right.PrintTree()\n",
    "        \n",
    "    def addition(self, value):\n",
    "        if value < self.data:\n",
    "            if self.left is None:\n",
    "                self.left = Tree(value)\n",
    "        elif value > self.data:\n",
    "            if self.right is None:\n",
    "                self.right = Tree(value)\n",
    "                \n",
    "abc = Tree(5)\n",
    "abc.addition(3)\n",
    "abc.addition(5)\n",
    "abc.left.addition(1)\n",
    "abc.left.addition(4)\n",
    "abc.addition(10)\n",
    "abc.PrintTree()"
   ]
  },
  {
   "cell_type": "code",
   "execution_count": 48,
   "metadata": {},
   "outputs": [],
   "source": [
    "import pandas as pd\n",
    "import numpy as np\n",
    "import seaborn as sns\n",
    "import matplotlib.pyplot as plt\n",
    "from sklearn.model_selection import train_test_split\n",
    "\n",
    "x = np.array([[-1, -1], [-2, -1], [-3, -2], [1, 1], [2, 1], [3, 2]])\n",
    "target = [0, 0, 0, 1, 1, 1]"
   ]
  },
  {
   "cell_type": "code",
   "execution_count": 52,
   "metadata": {},
   "outputs": [
    {
     "name": "stdout",
     "output_type": "stream",
     "text": [
      "[[0 1 0 0]\n",
      " [0 0 0 0]\n",
      " [0 0 0 0]\n",
      " [0 0 1 0]]\n",
      "              precision    recall  f1-score   support\n",
      "\n",
      "          -2       0.00      0.00      0.00       1.0\n",
      "          -1       0.00      0.00      0.00       0.0\n",
      "           1       0.00      0.00      0.00       0.0\n",
      "           2       0.00      0.00      0.00       1.0\n",
      "\n",
      "    accuracy                           0.00       2.0\n",
      "   macro avg       0.00      0.00      0.00       2.0\n",
      "weighted avg       0.00      0.00      0.00       2.0\n",
      "\n"
     ]
    },
    {
     "name": "stderr",
     "output_type": "stream",
     "text": [
      "E:\\Anaconda\\lib\\site-packages\\sklearn\\metrics\\_classification.py:1272: UndefinedMetricWarning: Precision and F-score are ill-defined and being set to 0.0 in labels with no predicted samples. Use `zero_division` parameter to control this behavior.\n",
      "  _warn_prf(average, modifier, msg_start, len(result))\n",
      "E:\\Anaconda\\lib\\site-packages\\sklearn\\metrics\\_classification.py:1272: UndefinedMetricWarning: Recall and F-score are ill-defined and being set to 0.0 in labels with no true samples. Use `zero_division` parameter to control this behavior.\n",
      "  _warn_prf(average, modifier, msg_start, len(result))\n"
     ]
    },
    {
     "data": {
      "image/png": "[encoded data removed]",
      "text/plain": [
       "<Figure size 432x288 with 1 Axes>"
      ]
     },
     "metadata": {
      "needs_background": "light"
     },
     "output_type": "display_data"
    }
   ],
   "source": [
    "import numpy as np\n",
    "import pandas as pd\n",
    "import seaborn as sns\n",
    "import matplotlib.pyplot as plt\n",
    "from sklearn.model_selection import train_test_split\n",
    "from sklearn.tree import DecisionTreeClassifier\n",
    "from sklearn import tree\n",
    "from sklearn.metrics import classification_report, confusion_matrix\n",
    "\n",
    "X = np.array([[-1, -1], [-2, -1], [-3, -2], [1, 1], [2, 1], [3, 2]])\n",
    "target = [0, 0, 0, 1, 1, 1]\n",
    "\n",
    "X_train, X_test, y_train, y_test = train_test_split(\n",
    "    X[:, :-1],\n",
    "    X[:, -1],\n",
    "    test_size=0.2\n",
    ")\n",
    "\n",
    "classifier = DecisionTreeClassifier()\n",
    "classifier.fit(X_train, y_train)\n",
    "\n",
    "tree.plot_tree(classifier)\n",
    "\n",
    "y_pred = classifier.predict(X_test)\n",
    "\n",
    "print(confusion_matrix(y_test, y_pred))\n",
    "print(classification_report(y_test, y_pred))"
   ]
  },
  {
   "cell_type": "code",
   "execution_count": 55,
   "metadata": {},
   "outputs": [
    {
     "name": "stdout",
     "output_type": "stream",
     "text": [
      "    Petrol_tax  Average_income  Paved_Highways  Population_Driver_licence(%)  \\\n",
      "0         9.00            3571            1976                         0.525   \n",
      "1         9.00            4092            1250                         0.572   \n",
      "2         9.00            3865            1586                         0.580   \n",
      "3         7.50            4870            2351                         0.529   \n",
      "4         8.00            4399             431                         0.544   \n",
      "5        10.00            5342            1333                         0.571   \n",
      "6         8.00            5319           11868                         0.451   \n",
      "7         8.00            5126            2138                         0.553   \n",
      "8         8.00            4447            8577                         0.529   \n",
      "9         7.00            4512            8507                         0.552   \n",
      "10        8.00            4391            5939                         0.530   \n",
      "11        7.50            5126           14186                         0.525   \n",
      "12        7.00            4817            6930                         0.574   \n",
      "13        7.00            4207            6580                         0.545   \n",
      "14        7.00            4332            8159                         0.608   \n",
      "15        7.00            4318           10340                         0.586   \n",
      "16        7.00            4206            8508                         0.572   \n",
      "17        7.00            3718            4725                         0.540   \n",
      "18        7.00            4716            5915                         0.724   \n",
      "19        8.50            4341            6010                         0.677   \n",
      "20        7.00            4593            7834                         0.663   \n",
      "21        8.00            4983             602                         0.602   \n",
      "22        9.00            4897            2449                         0.511   \n",
      "23        9.00            4258            4686                         0.517   \n",
      "24        8.50            4574            2619                         0.551   \n",
      "25        9.00            3721            4746                         0.544   \n",
      "26        8.00            3448            5399                         0.548   \n",
      "27        7.50            3846            9061                         0.579   \n",
      "28        8.00            4188            5975                         0.563   \n",
      "29        9.00            3601            4650                         0.493   \n",
      "30        7.00            3640            6905                         0.518   \n",
      "31        7.00            3333            6594                         0.513   \n",
      "32        8.00            3063            6524                         0.578   \n",
      "33        7.50            3357            4121                         0.547   \n",
      "34        8.00            3528            3495                         0.487   \n",
      "35        6.58            3802            7834                         0.629   \n",
      "36        5.00            4045           17782                         0.566   \n",
      "37        7.00            3897            6385                         0.586   \n",
      "38        8.50            3635            3274                         0.663   \n",
      "39        7.00            4345            3905                         0.672   \n",
      "40        7.00            4449            4639                         0.626   \n",
      "41        7.00            3656            3985                         0.563   \n",
      "42        7.00            4300            3635                         0.603   \n",
      "43        7.00            3745            2611                         0.508   \n",
      "44        6.00            5215            2302                         0.672   \n",
      "45        9.00            4476            3942                         0.571   \n",
      "46        7.00            4296            4083                         0.623   \n",
      "47        7.00            5002            9794                         0.593   \n",
      "\n",
      "    Petrol_Consumption  \n",
      "0                  541  \n",
      "1                  524  \n",
      "2                  561  \n",
      "3                  414  \n",
      "4                  410  \n",
      "5                  457  \n",
      "6                  344  \n",
      "7                  467  \n",
      "8                  464  \n",
      "9                  498  \n",
      "10                 580  \n",
      "11                 471  \n",
      "12                 525  \n",
      "13                 508  \n",
      "14                 566  \n",
      "15                 635  \n",
      "16                 603  \n",
      "17                 714  \n",
      "18                 865  \n",
      "19                 640  \n",
      "20                 649  \n",
      "21                 540  \n",
      "22                 464  \n",
      "23                 547  \n",
      "24                 460  \n",
      "25                 566  \n",
      "26                 577  \n",
      "27                 631  \n",
      "28                 574  \n",
      "29                 534  \n",
      "30                 571  \n",
      "31                 554  \n",
      "32                 577  \n",
      "33                 628  \n",
      "34                 487  \n",
      "35                 644  \n",
      "36                 640  \n",
      "37                 704  \n",
      "38                 648  \n",
      "39                 968  \n",
      "40                 587  \n",
      "41                 699  \n",
      "42                 632  \n",
      "43                 591  \n",
      "44                 782  \n",
      "45                 510  \n",
      "46                 610  \n",
      "47                 524  \n"
     ]
    },
    {
     "data": {
      "image/png": "[encoded data removed]",
      "text/plain": [
       "<Figure size 432x288 with 1 Axes>"
      ]
     },
     "metadata": {
      "needs_background": "light"
     },
     "output_type": "display_data"
    },
    {
     "name": "stdout",
     "output_type": "stream",
     "text": [
      "Mean Squared Error: 136344.1\n",
      "Mean Absolute Error: 234.9\n"
     ]
    },
    {
     "data": {
      "image/png": "[encoded data removed]",
      "text/plain": [
       "<Figure size 432x288 with 1 Axes>"
      ]
     },
     "metadata": {
      "needs_background": "light"
     },
     "output_type": "display_data"
    }
   ],
   "source": [
    "from sklearn import metrics\n",
    "url = r'https://raw.githubusercontent.com/likarajo/petrol_consumption/master/data/petrol_consumption.csv'\n",
    "dataset = pd.read_csv(url)\n",
    "print(dataset)\n",
    "X = dataset.iloc[:, :-1].values\n",
    "y = dataset.iloc[:, 1].values\n",
    "\n",
    "X_train, X_test, y_train, y_test = train_test_split(X, y, test_size=0.2, random_state=0)\n",
    "\n",
    "regressor = DecisionTreeClassifier()\n",
    "regressor.fit(X_train, y_train)\n",
    "\n",
    "y_pred = regressor.predict(X_test)\n",
    "\n",
    "\n",
    "df = pd.DataFrame({'Actual': y_test, 'Predicted': y_pred})\n",
    "\n",
    "\n",
    "df.plot(kind='bar')\n",
    "plt.grid(which='major', linestyle='-', linewidth='0.5', color='green')\n",
    "plt.grid(which='minor', linestyle=':', linewidth='0.5', color='black')\n",
    "\n",
    "\n",
    "plt.scatter(dataset['Petrol_tax'], dataset['Petrol_Consumption'], color='b', label=\"Заработная плата\")\n",
    "plt.plot(X_test, y_pred, color='red', linewidth=2)\n",
    "plt.xlabel(\"Petrol_Consumption\")\n",
    "plt.ylabel(\"Petrol_tax\")\n",
    "plt.show()\n",
    "\n",
    "tree.plot_tree(regressor)\n",
    "\n",
    "print('Mean Squared Error:', metrics.mean_squared_error(y_test, y_pred))\n",
    "print('Mean Absolute Error:', metrics.mean_absolute_error(y_test, y_pred))"
   ]
  },
  {
   "cell_type": "code",
   "execution_count": null,
   "metadata": {},
   "outputs": [],
   "source": []
  }
 ],
 "metadata": {
  "kernelspec": {
   "display_name": "Python 3",
   "language": "python",
   "name": "python3"
  },
  "language_info": {
   "codemirror_mode": {
    "name": "ipython",
    "version": 3
   },
   "file_extension": ".py",
   "mimetype": "text/x-python",
   "name": "python",
   "nbconvert_exporter": "python",
   "pygments_lexer": "ipython3",
   "version": "3.7.6"
  }
 },
 "nbformat": 4,
 "nbformat_minor": 4
}
